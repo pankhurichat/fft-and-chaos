{
 "cells": [
  {
   "cell_type": "code",
   "execution_count": 1,
   "id": "4bfbec62",
   "metadata": {},
   "outputs": [],
   "source": [
    "import math as m\n",
    "import numpy as np\n",
    "import matplotlib.pyplot as plt\n",
    "from scipy import integrate"
   ]
  },
  {
   "cell_type": "code",
   "execution_count": 3,
   "id": "b34a1d32",
   "metadata": {},
   "outputs": [],
   "source": [
    "def f(wt,Im):\n",
    "    return abs(Im*(m.sin(wt)))"
   ]
  },
  {
   "cell_type": "code",
   "execution_count": 3,
   "id": "73b8ab4c",
   "metadata": {},
   "outputs": [],
   "source": [
    "X=np.linspace(-m.pi,m.pi,100)\n",
    "Y=[]\n",
    "for i in range(0,len(X)):\n",
    "    Y.append(f(X[i],5))"
   ]
  },
  {
   "cell_type": "code",
   "execution_count": 4,
   "id": "4b6e8edb",
   "metadata": {},
   "outputs": [],
   "source": [
    "Im=5\n",
    "a0 = (4*Im)/m.pi\n",
    "def an(n):\n",
    "    if n==1:\n",
    "        y=0\n",
    "    else:\n",
    "        y=(-2*Im)*(m.cos(n*m.pi)+1)/((n**2 -1)*m.pi)\n",
    "    return y\n",
    "def bn(n):\n",
    "    return 0 "
   ]
  },
  {
   "cell_type": "code",
   "execution_count": 5,
   "id": "66f8d5bb",
   "metadata": {},
   "outputs": [],
   "source": [
    "def Fourierseries(wt,n):\n",
    "    sum = a0/2\n",
    "    for i in range(1,n+1):\n",
    "        sum = sum + an(i)*(m.cos(i*wt)) \n",
    "    return sum"
   ]
  },
  {
   "cell_type": "code",
   "execution_count": 7,
   "id": "3545cef9",
   "metadata": {},
   "outputs": [
    {
     "data": {
      "image/png": "[encoded data removed]",
      "text/plain": [
       "<Figure size 432x288 with 1 Axes>"
      ]
     },
     "metadata": {
      "needs_background": "light"
     },
     "output_type": "display_data"
    }
   ],
   "source": [
    "X1=np.linspace(-1*m.pi,1*m.pi,1000)\n",
    "Y1=[]\n",
    "for i in X1:\n",
    "    Y1.append(Fourierseries(i,10))\n",
    "plt.plot(X1,Y1)\n",
    "\n",
    "plt.plot(X,Y,'r')\n",
    "plt.show()"
   ]
  },
  {
   "cell_type": "markdown",
   "id": "913af44f",
   "metadata": {},
   "source": [
    "# Writing fourier series for any function\n",
    "# 1) Using simpson rule for integration"
   ]
  },
  {
   "cell_type": "code",
   "execution_count": 4,
   "id": "b4a0bb10",
   "metadata": {},
   "outputs": [],
   "source": [
    "def f(x):\n",
    "    return abs(np.exp(x))"
   ]
  },
  {
   "cell_type": "code",
   "execution_count": 5,
   "id": "734c197e",
   "metadata": {},
   "outputs": [],
   "source": [
    "X=np.linspace(-m.pi,m.pi,200)\n",
    "period=2*m.pi\n",
    "def fourier(n):        ## integration done using simpson method\n",
    "    L=period/2\n",
    "    a0=(integrate.simps(f(X),X))/L\n",
    "    \n",
    "    an=[]\n",
    "    for i in range(1,n+1):\n",
    "        t=f(X)*(np.cos(i*m.pi*X/L))\n",
    "        z=(integrate.simps(t,X))/L\n",
    "        an.append(z)\n",
    "    \n",
    "    bn=[]\n",
    "    for i in range(1,n+1):\n",
    "        t=f(X)*(np.sin(i*m.pi*X/L))\n",
    "        z=(integrate.simps(t,X))/L\n",
    "        bn.append(z)\n",
    "    \n",
    "    F=[]\n",
    "    for i in range(0,len(X)):\n",
    "        sum = a0/2 \n",
    "        for j in range(0,len(an)):\n",
    "            sum+=(m.cos((j+1)*m.pi*X[i]/L))*an[j]+(m.sin((j+1)*m.pi*X[i]/L))*bn[j]\n",
    "        F.append(sum)\n",
    "    return F  "
   ]
  },
  {
   "cell_type": "code",
   "execution_count": 6,
   "id": "deef8482",
   "metadata": {},
   "outputs": [
    {
     "data": {
      "text/plain": [
       "[<matplotlib.lines.Line2D at 0x227ead45af0>]"
      ]
     },
     "execution_count": 6,
     "metadata": {},
     "output_type": "execute_result"
    },
    {
     "data": {
      "image/png": "[encoded data removed]",
      "text/plain": [
       "<Figure size 432x288 with 1 Axes>"
      ]
     },
     "metadata": {
      "needs_background": "light"
     },
     "output_type": "display_data"
    }
   ],
   "source": [
    "F=fourier(30)\n",
    "plt.plot(X,F)"
   ]
  },
  {
   "cell_type": "markdown",
   "id": "466eaf21",
   "metadata": {},
   "source": [
    "# 2) Using \n",
    "$$\\int{f(x)dx} = h\\sum{f(x_i)}$$"
   ]
  },
  {
   "cell_type": "code",
   "execution_count": 10,
   "id": "01330011",
   "metadata": {},
   "outputs": [],
   "source": [
    "def f(x):\n",
    "    return abs(np.sin(x))"
   ]
  },
  {
   "cell_type": "code",
   "execution_count": 11,
   "id": "f8ab1a39",
   "metadata": {},
   "outputs": [],
   "source": [
    "X=np.linspace(-m.pi,m.pi,100)\n",
    "period=2*m.pi\n",
    "def fourier1(n):             ## integration done using f(x)*dx\n",
    "    L=period/2\n",
    "    h=2*m.pi/1000\n",
    "    a0=0\n",
    "    for i in range(0,len(X)):\n",
    "        a0+=f(i)*h\n",
    "    \n",
    "    an=[]\n",
    "    for i in range(1,n+1):\n",
    "        t=0\n",
    "        for j in range(0,len(X)):\n",
    "            t+=f(X[j])*(np.cos(i*m.pi*X[j]/L))*h\n",
    "        an.append(t)\n",
    "    \n",
    "    bn=[]\n",
    "    for i in range(1,n+1):\n",
    "        t=0\n",
    "        for j in range(0,len(X)):\n",
    "            t+=f(X[j])*(np.sin(i*m.pi*X[j]/L))*h\n",
    "        bn.append(t)\n",
    "        \n",
    "    F=[]\n",
    "    for i in range(0,len(X)):\n",
    "        sum = a0/2 \n",
    "        for j in range(0,len(an)):\n",
    "            sum+=(m.cos((j+1)*m.pi*X[i]/L))*an[j]+(m.sin((j+1)*m.pi*X[i]/L))*bn[j]\n",
    "        F.append(sum)\n",
    "    return F  "
   ]
  },
  {
   "cell_type": "code",
   "execution_count": 12,
   "id": "b280396a",
   "metadata": {},
   "outputs": [
    {
     "data": {
      "text/plain": [
       "[<matplotlib.lines.Line2D at 0x227eb565160>]"
      ]
     },
     "execution_count": 12,
     "metadata": {},
     "output_type": "execute_result"
    },
    {
     "data": {
      "image/png": "[encoded data removed]",
      "text/plain": [
       "<Figure size 432x288 with 1 Axes>"
      ]
     },
     "metadata": {
      "needs_background": "light"
     },
     "output_type": "display_data"
    }
   ],
   "source": [
    "F1=fourier1(30)\n",
    "plt.plot(X,F1)"
   ]
  },
  {
   "cell_type": "code",
   "execution_count": null,
   "id": "6f9b70ee",
   "metadata": {},
   "outputs": [],
   "source": []
  }
 ],
 "metadata": {
  "kernelspec": {
   "display_name": "Python 3 (ipykernel)",
   "language": "python",
   "name": "python3"
  },
  "language_info": {
   "codemirror_mode": {
    "name": "ipython",
    "version": 3
   },
   "file_extension": ".py",
   "mimetype": "text/x-python",
   "name": "python",
   "nbconvert_exporter": "python",
   "pygments_lexer": "ipython3",
   "version": "3.9.12"
  }
 },
 "nbformat": 4,
 "nbformat_minor": 5
}
