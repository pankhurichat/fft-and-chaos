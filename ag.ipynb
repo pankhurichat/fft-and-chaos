{
 "cells": [
  {
   "cell_type": "code",
   "execution_count": 3,
   "metadata": {},
   "outputs": [],
   "source": [
    "import numpy as np"
   ]
  },
  {
   "cell_type": "code",
   "execution_count": 5,
   "metadata": {},
   "outputs": [],
   "source": [
    "def sorter(arr, p): # arr is the array of function values at a particular stage of sorting. p is the number of slices.\n",
    "    N = len(arr)\n",
    "    l = int(N/p) # Number of elements in each slice.\n",
    "    temp = np.empty((0,p)) # Empty array to store the sorted function vlues.\n",
    "    for i in range(p): # Loop over slices.\n",
    "        a = np.zeros( int(l/2)) # a and b will store even and odd index elements of a given slice\n",
    "        b = np.zeros(int(l/2))\n",
    "        for j in range(int(l/2)):\n",
    "            a[j] = arr[l*i+2*j] #arr[0]\n",
    "            b[j] = arr[l*i+2*j+1] #arr[1]\n",
    "        a = np.concatenate((a,b)) # a and b are combined into a single array which is stored as a.\n",
    "        temp = np.append(temp,a) # a appended to the empty array.\n",
    "    return temp\n",
    "\n",
    "def transform(arr,p): # arr is the array of Fourier coefficients at a given stage. p is number of slices of the array\n",
    "    N = len(arr)\n",
    "    s = int(p/2)  # Number of pairs of slices.\n",
    "    q = int(N/p)  # Number of elements in each slice\n",
    "    temp = np.empty((0,s))\n",
    "    w = np.exp(2*np.pi*1j/(2*q)) # Complex exponential which appears in the recursion.\n",
    "    for i in range(s):\n",
    "        m = i*2*q # Starting index of first slice in the pair. The next slice has starting index m+q.\n",
    "        a = np.zeros(2*q, dtype='complex') # a stores the Fourier coefficients built out of those of a pair of slices.\n",
    "        for k in range(q):\n",
    "            a[k] = arr[m+k] + (w**k)*arr[m+q+k]\n",
    "            a[k+q] = arr[m+k] - (w**k)*arr[m+q+k]\n",
    "        \n",
    "        temp = np.append(temp,a)\n",
    "    return temp"
   ]
  },
  {
   "cell_type": "code",
   "execution_count": 10,
   "metadata": {},
   "outputs": [],
   "source": [
    "x=[1,2,3,4,5,6,7,8,9] #len=9=N\n",
    "a=sorter(x,2) #p=3, number of elemnts=N/p=3"
   ]
  },
  {
   "cell_type": "code",
   "execution_count": 11,
   "metadata": {},
   "outputs": [
    {
     "data": {
      "text/plain": [
       "array([ 6.        +0.j        ,  7.94974747+4.94974747j,\n",
       "        2.        +6.j        , -1.65685425+5.65685425j,\n",
       "       -4.        +0.j        , -1.94974747-4.94974747j,\n",
       "        2.        -6.j        ,  9.65685425-5.65685425j])"
      ]
     },
     "execution_count": 11,
     "metadata": {},
     "output_type": "execute_result"
    }
   ],
   "source": [
    "transform(a,2)"
   ]
  },
  {
   "cell_type": "code",
   "execution_count": null,
   "metadata": {},
   "outputs": [],
   "source": []
  }
 ],
 "metadata": {
  "kernelspec": {
   "display_name": "Python 3 (ipykernel)",
   "language": "python",
   "name": "python3"
  },
  "language_info": {
   "codemirror_mode": {
    "name": "ipython",
    "version": 3
   },
   "file_extension": ".py",
   "mimetype": "text/x-python",
   "name": "python",
   "nbconvert_exporter": "python",
   "pygments_lexer": "ipython3",
   "version": "3.9.12"
  }
 },
 "nbformat": 4,
 "nbformat_minor": 2
}
